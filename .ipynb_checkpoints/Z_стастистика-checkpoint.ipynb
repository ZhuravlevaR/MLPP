{
 "cells": [
  {
   "cell_type": "markdown",
   "metadata": {},
   "source": [
    "**Программа межлабораторного контроля качества**\n",
    "\n",
    "\n",
    "**Результаты лабораторных исследований** должны удовлетворять определенным **критериям качества** вне зависимости от места проведения анализа. Это является необходимым условием для минимизации риска причинения вреда пациенту, вытекающего из клинического применения данных.\n",
    "\n",
    "Объективную возможность решать проблемы, связанные с аналитическим этапом исследования, выявлять различия в результатах между лабораториями дают межлабораторные сравнительные испытания. Межлабораторная программа компании «Вектор-Бест» по биохимическим исследованиям действует с 2011 г. Благодаря широкой сети представительств «Вектор-Бест» в России в ней принимают участие КДЛ из всех федеральных округов в общей сложности **более 700 медицинских лабораторий**. "
   ]
  },
  {
   "cell_type": "code",
   "execution_count": 1,
   "metadata": {},
   "outputs": [
    {
     "name": "stdout",
     "output_type": "stream",
     "text": [
      "Requirement already satisfied: fpdf in c:\\users\\zhuravlevar\\anaconda3\\lib\\site-packages (1.7.2)\n"
     ]
    }
   ],
   "source": [
    "import pandas as pd\n",
    "import matplotlib.pyplot as plt\n",
    "import pandas as pd\n",
    "from sklearn import linear_model\n",
    "import seaborn as sns\n",
    "\n",
    "from fpdf import FPDF\n",
    "import matplotlib.pyplot as plt\n",
    "import seaborn as sns\n",
    "import numpy as np"
   ]
  },
  {
   "cell_type": "markdown",
   "metadata": {},
   "source": [
    "**Третий вариант отчёта** (Z_стастистика) отражает распределение лабораторий по среднему значению индекса SDI (как среднее для всех показателей) и положение лабораторий относительно остальных."
   ]
  },
  {
   "cell_type": "code",
   "execution_count": 2,
   "metadata": {},
   "outputs": [],
   "source": [
    "# make protokol with individual score\n",
    "# \n",
    "num_cycle = 'c9'\n",
    "cycle = 'Цикл 1 – 2021'\n",
    "date_cycle = 'март 2021'\n",
    "last_cycle = '2021_1'\n",
    "\n",
    "df = pd.read_excel(r'C:/Users/ZhuravlevaR/MLPP/Z_score.xlsx', sheet_name=num_cycle)\n",
    "dinamic = pd.read_excel(r'C:/Users/ZhuravlevaR/MLPP/dinamic.xlsx', sheet_name='Лист1')\n",
    "analit_dic = pd.read_excel(r'C:/Users/ZhuravlevaR/MLPP/analit.xlsx')\n",
    "analit_dic.index = analit_dic.iloc[:,0]\n",
    "\n",
    "# update dinamic dataframe\n",
    "analit = [] # list of analit\n",
    "dic = {} # dict of short analit name\n",
    "# переименовываю колонки по разным уровням аналитов\n",
    "for name in dinamic.columns[1:]:\n",
    "    if 'Unnamed' not in name:\n",
    "        tmp = name\n",
    "        analit += [tmp]\n",
    "    dic.update({name : tmp + '_' + dinamic.at[0, name]})\n",
    "dinamic = dinamic.rename(columns = dic)\n",
    "dinamic = dinamic.iloc[1:]\n",
    "dinamic.reset_index(drop = True, inplace =True)\n",
    "\n",
    "\n",
    "\n",
    "# update dataframe \n",
    "analit = [] # list of analit\n",
    "dic = {} # dict of short analit name\n",
    "for name in df.columns[3:]:\n",
    "    if 'Unnamed' not in name:\n",
    "        tmp = name\n",
    "        analit += [tmp]\n",
    "    dic.update({name : tmp + '_' + df.at[0, name]})\n",
    "df = df.rename(columns = dic)\n",
    "df = df.iloc[1:]\n",
    "df.reset_index(drop = True, inplace =True)\n",
    "\n",
    "df_Z = df[pd.notnull(df['Code'])]\n",
    "df_Z.reset_index(drop = True, inplace =True)\n",
    "df_Z =df_Z.rename(columns={ df_Z.columns[2]: 'Z' })\n"
   ]
  },
  {
   "cell_type": "code",
   "execution_count": 3,
   "metadata": {},
   "outputs": [
    {
     "name": "stderr",
     "output_type": "stream",
     "text": [
      "<ipython-input-3-f28a344d1964>:10: SettingWithCopyWarning: \n",
      "A value is trying to be set on a copy of a slice from a DataFrame\n",
      "\n",
      "See the caveats in the documentation: https://pandas.pydata.org/pandas-docs/stable/user_guide/indexing.html#returning-a-view-versus-a-copy\n",
      "  df_Z['Z'][df_Z[anal + lev].notna()] += tmp\n"
     ]
    }
   ],
   "source": [
    "# calculate of individual score\n",
    "df_Z['Z'] = 0\n",
    "col = list(filter(lambda x: 'Lev' in x, df_Z.columns))\n",
    "col_low = col\n",
    "coll = []\n",
    "# для всех участников нужно посчитить средений оценку их ошибки\n",
    "# для этого считаем MAE Z-score для фиксированных аналитов\n",
    "for anal in ['ALT', 'Alb', 'Amy', 'AmyP', 'AST', 'Prot', 'DPD', 'BilE', 'BilK',  'GGT', 'GOD', 'HEK', 'Fe',  'Crea', 'Comp', 'CFK', 'LDH', 'UA', 'Urea', 'TG', 'P', 'Chol', 'ALP', 'ALPIFCC' ] :\n",
    "    for lev in ['_Lev1', '_Lev2']:\n",
    "        # calculate MEAN Abs Z-score for all user \n",
    "        tmp = (abs(df_Z[anal + lev][df_Z[anal + lev].notna()] - dinamic.loc[8, anal + lev])/dinamic.loc[17, anal + lev])\n",
    "        \n",
    "        # matching anomalies for Z-score above 3\n",
    "        tmp[tmp>3] = 3\n",
    "   \n",
    "        df_Z['Z'][df_Z[anal + lev].notna()] += tmp\n",
    "        coll += [anal + lev]\n",
    " \n",
    "\n",
    "\n",
    "df_Z['Z'] = df_Z['Z']/df_Z[coll].count(axis=1).replace(0, None)\n",
    "\n",
    "# make individual figure\n",
    "def figure(number):\n",
    "    \"\"\"\n",
    "    делаем рисунок для каждого участника с распределением всех участников MAE Z-score\n",
    "    Добавляем на рисунок стрелку с положением результата участника\n",
    "    Функция принимает номер участника\n",
    "    ничего не возвращаем\n",
    "    \"\"\"\n",
    "    \n",
    "    fig, ax = plt.subplots(figsize = (10,5)) \n",
    "  \n",
    "    ax.grid(which='major', axis='y', color='black', linestyle='--', alpha = 0.2)\n",
    "    ax.spines['right'].set_visible(False)\n",
    "    ax.spines['top'].set_visible(False)\n",
    "\n",
    "    sns.distplot(df_Z.Z[df_Z.Z > 0], bins = [0.2, 0.4, 0.6, 0.8, 1.0, 1.2, 1.4, 1.6, 1.8, 2.0, 3 ], kde = False, hist_kws=dict(edgecolor=\"black\", linewidth=2), ax = ax)\n",
    "\n",
    "    plt.xlabel('>2 SDI', x= 0.97, labelpad= -12, size=12)\n",
    "    plt.ylabel('Число лабораторий', size=14)\n",
    "    plt.xticks([0, 0.2, 0.4, 0.6,0.8, 1.0, 1.2, 1.4, 1.6, 1.8, 2.0])\n",
    "    ax.set_xlim(0, 2.2)\n",
    "    ax.set_ylim(0, 62)\n",
    "    df_Z['Z2'] = df_Z.Z\n",
    "    df_Z['Z2'][df_Z['Z2']>2.1] = 2.1\n",
    "    sns.scatterplot(x=[df_Z.Z2[number]],y=[59], marker = 'v', s = 400, ax = ax, alpha = 1)\n",
    "    ax.text(df_Z.Z2[number]-0.13,63, 'Ваш результат')\n",
    "\n",
    "    fig.savefig(r'C:/Users/ZhuravlevaR/MLPP/1.png')\n",
    "\n",
    "\n"
   ]
  },
  {
   "cell_type": "code",
   "execution_count": 4,
   "metadata": {},
   "outputs": [
    {
     "name": "stdout",
     "output_type": "stream",
     "text": [
      "Е2\n"
     ]
    },
    {
     "data": {
      "image/png": "[encoded data removed]",
      "text/plain": [
       "<Figure size 720x360 with 1 Axes>"
      ]
     },
     "metadata": {
      "needs_background": "light"
     },
     "output_type": "display_data"
    }
   ],
   "source": [
    "# THE MAIN PROCEDURE\n",
    "# print to pdf protocol \n",
    "\"\"\"\n",
    "создаем протокол для всех участников\n",
    "\"\"\"\n",
    "for number in range(60,61): # hand set numbers protocol print\n",
    "      \n",
    "# for number, row in df_Z[df_Z['Z']>0].iterrows():\n",
    "#     if number > 413:\n",
    "#         break\n",
    "#     number = 301\n",
    "#     if df.at[number,'ALT_Lev2'] > 0 or df.at[number,'ALP_Lev2'] > 0 or df.at[number,'Chol_Lev2'] > 0 :\n",
    "        \n",
    "        end_of_page = 240 # размер видимой части страницы в мм\n",
    "        pdf = FPDF() # генерируем пдф объект и создаем пустую страницу\n",
    "        pdf.add_page()\n",
    "        \n",
    "        # load RUS fonts\n",
    "        \n",
    "        pdf.add_font('DejaVuB', '', r'C:/Users/ZhuravlevaR/MLPP/FreeSerifBold.ttf', uni=True)\n",
    "        pdf.add_font('DejaVu', '', r'C:/Users/ZhuravlevaR/MLPP/FreeSerif.ttf', uni=True)\n",
    "        pdf.set_font('DejaVuB', '', 14)\n",
    "        \n",
    "        # load logo\n",
    "        pdf.image(r'C:/Users/ZhuravlevaR/MLPP/Logotip.png', x=10, y=5, w=45)\n",
    "\n",
    "        pdf.set_xy(10,18)\n",
    "        pdf.write(15,'Межлабораторная программа-практикум по биохимическим исследованиям')\n",
    "        pdf.set_xy(100,25)\n",
    "        pdf.write(15, cycle)\n",
    "\n",
    "\n",
    "        pdf.set_font('DejaVu', '', 10)\n",
    "\n",
    "        pdf.set_xy(10,25)\n",
    "        pdf.write(25,'Код лаборатории')\n",
    "\n",
    "        pdf.set_xy(40,33)\n",
    "        pdf.set_fill_color(240, 230, 140)\n",
    "        pdf.cell(15,8,df_Z.Code[number],1,0,'C',1)\n",
    "\n",
    "        pdf.set_xy(10,30)\n",
    "        pdf.write(35,'ЛПУ')\n",
    "        pdf.set_xy(25,44)\n",
    "        pdf.set_fill_color(222, 222, 222)\n",
    "        pdf.cell(160,8,df_Z.Name[number],0,0,'L',1)\n",
    "\n",
    "        pdf.set_font('DejaVu', '', 12)\n",
    "\n",
    "        text = \"\"\"\n",
    "          Распределение лабораторий по среднему значению индекса\n",
    "\n",
    "          среднеквадратического отклонения ( SDI )\n",
    "              \"\"\"\n",
    "        pdf.set_xy(10,55)\n",
    "        pdf.multi_cell(180,4.5,text,0,'C')\n",
    "        \n",
    "        \n",
    "        # создаем рисунок и сохраняем на диск\n",
    "        figure(number)\n",
    "        \n",
    "        # вставляем сохраненный рисунок\n",
    "        pdf.image(r'C:/Users/ZhuravlevaR/MLPP/1.png', x=10 , y= 80, w=170) \n",
    "\n",
    "        # отображаем результат участника\n",
    "        pdf.set_xy(78,175)\n",
    "        pdf.write(25,'Ваш средний SDI')\n",
    "        pdf.set_xy(115,183)\n",
    "        pdf.set_fill_color(240, 230, 140)\n",
    "        pdf.cell(15,8,str(round(df_Z.Z[number], 2)),1,0,'C',1)\n",
    "        \n",
    "        # Печатаем из картинки концовку протокола\n",
    "        pdf.image(r'C:/Users/ZhuravlevaR/MLPP/Z.png', x=25, y=160, w=155)\n",
    "        \n",
    "        # сохраняем протокол\n",
    "        pdf.output(r\"C:/Users/ZhuravlevaR/MLPP/MLPP_2020_2_Z/2020_2_{}_Протокол3.pdf\".format(df_Z.Code[number]), 'F')\n",
    "        print(df_Z.Code[number])"
   ]
  }
 ],
 "metadata": {
  "kernelspec": {
   "display_name": "Python 3",
   "language": "python",
   "name": "python3"
  },
  "language_info": {
   "codemirror_mode": {
    "name": "ipython",
    "version": 3
   },
   "file_extension": ".py",
   "mimetype": "text/x-python",
   "name": "python",
   "nbconvert_exporter": "python",
   "pygments_lexer": "ipython3",
   "version": "3.7.6"
  }
 },
 "nbformat": 4,
 "nbformat_minor": 4
}
